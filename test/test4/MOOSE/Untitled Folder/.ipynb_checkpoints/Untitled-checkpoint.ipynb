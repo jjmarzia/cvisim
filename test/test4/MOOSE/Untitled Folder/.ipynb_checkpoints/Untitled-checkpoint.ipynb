{
 "cells": [
  {
   "cell_type": "code",
   "execution_count": 8,
   "id": "4b5ad52e-1ca9-4aef-b71d-60f1f0b19867",
   "metadata": {},
   "outputs": [
    {
     "name": "stdout",
     "output_type": "stream",
     "text": [
      "[ 1.  2.  3.  4.  5.  6.  7.  8.  9. 10. 11. 12. 13. 14. 15. 16. 17. 18.\n",
      " 19. 20.]\n",
      "#add_executable(day1 day1/main.cpp)\n",
      "#add_executable(day2 day2/main.cpp)\n",
      "#add_executable(day3 day3/main.cpp)\n",
      "#add_executable(day4 day4/main.cpp)\n",
      "#add_executable(day5 day5/main.cpp)\n",
      "#add_executable(day6 day6/main.cpp)\n",
      "#add_executable(day7 day7/main.cpp)\n",
      "#add_executable(day8 day8/main.cpp)\n",
      "#add_executable(day9 day9/main.cpp)\n",
      "#add_executable(day10 day10/main.cpp)\n",
      "#add_executable(day11 day11/main.cpp)\n",
      "#add_executable(day12 day12/main.cpp)\n",
      "#add_executable(day13 day13/main.cpp)\n",
      "#add_executable(day14 day14/main.cpp)\n",
      "#add_executable(day15 day15/main.cpp)\n",
      "#add_executable(day16 day16/main.cpp)\n",
      "#add_executable(day17 day17/main.cpp)\n",
      "#add_executable(day18 day18/main.cpp)\n",
      "#add_executable(day19 day19/main.cpp)\n",
      "#add_executable(day20 day20/main.cpp)\n",
      "cd Users/jjmarzia/Desktop/ablate/codingAblate/day1\n",
      "touch main.cpp\n",
      "cd Users/jjmarzia/Desktop/ablate/codingAblate/day2\n",
      "touch main.cpp\n",
      "cd Users/jjmarzia/Desktop/ablate/codingAblate/day3\n",
      "touch main.cpp\n",
      "cd Users/jjmarzia/Desktop/ablate/codingAblate/day4\n",
      "touch main.cpp\n",
      "cd Users/jjmarzia/Desktop/ablate/codingAblate/day5\n",
      "touch main.cpp\n",
      "cd Users/jjmarzia/Desktop/ablate/codingAblate/day6\n",
      "touch main.cpp\n",
      "cd Users/jjmarzia/Desktop/ablate/codingAblate/day7\n",
      "touch main.cpp\n",
      "cd Users/jjmarzia/Desktop/ablate/codingAblate/day8\n",
      "touch main.cpp\n",
      "cd Users/jjmarzia/Desktop/ablate/codingAblate/day9\n",
      "touch main.cpp\n",
      "cd Users/jjmarzia/Desktop/ablate/codingAblate/day10\n",
      "touch main.cpp\n",
      "cd Users/jjmarzia/Desktop/ablate/codingAblate/day11\n",
      "touch main.cpp\n",
      "cd Users/jjmarzia/Desktop/ablate/codingAblate/day12\n",
      "touch main.cpp\n",
      "cd Users/jjmarzia/Desktop/ablate/codingAblate/day13\n",
      "touch main.cpp\n",
      "cd Users/jjmarzia/Desktop/ablate/codingAblate/day14\n",
      "touch main.cpp\n",
      "cd Users/jjmarzia/Desktop/ablate/codingAblate/day15\n",
      "touch main.cpp\n",
      "cd Users/jjmarzia/Desktop/ablate/codingAblate/day16\n",
      "touch main.cpp\n",
      "cd Users/jjmarzia/Desktop/ablate/codingAblate/day17\n",
      "touch main.cpp\n",
      "cd Users/jjmarzia/Desktop/ablate/codingAblate/day18\n",
      "touch main.cpp\n",
      "cd Users/jjmarzia/Desktop/ablate/codingAblate/day19\n",
      "touch main.cpp\n",
      "cd Users/jjmarzia/Desktop/ablate/codingAblate/day20\n",
      "touch main.cpp\n"
     ]
    }
   ],
   "source": [
    "import numpy as np\n",
    "days = np.linspace(1,20,20)\n",
    "print(days)\n",
    "for i in range(len(days)):\n",
    "    print(\"#add_executable(day\"+str(int(days[i]))+\" day\"+str(int(days[i]))+\"/main.cpp)\")\n",
    "\n",
    "for i in range(len(days)):\n",
    "    print(\"cd /Users/jjmarzia/Desktop/ablate/codingAblate/day\"+str(int(days[i])))\n",
    "    print(\"touch main.cpp\")"
   ]
  },
  {
   "cell_type": "code",
   "execution_count": null,
   "id": "ff41b11c-16f9-47f9-9689-472553762042",
   "metadata": {},
   "outputs": [],
   "source": []
  }
 ],
 "metadata": {
  "kernelspec": {
   "display_name": "Python 3 (ipykernel)",
   "language": "python",
   "name": "python3"
  },
  "language_info": {
   "codemirror_mode": {
    "name": "ipython",
    "version": 3
   },
   "file_extension": ".py",
   "mimetype": "text/x-python",
   "name": "python",
   "nbconvert_exporter": "python",
   "pygments_lexer": "ipython3",
   "version": "3.11.4"
  }
 },
 "nbformat": 4,
 "nbformat_minor": 5
}
