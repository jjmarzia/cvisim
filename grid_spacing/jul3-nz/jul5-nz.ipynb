{
 "cells": [
  {
   "cell_type": "code",
   "execution_count": 75,
   "id": "9a67403d-01f8-4108-93be-8bf0d17bc583",
   "metadata": {},
   "outputs": [],
   "source": [
    "import numpy as np\n",
    "import math\n",
    "import matplotlib\n",
    "import matplotlib.pyplot as plt\n",
    "plt.rcParams.update({'font.size': 11})"
   ]
  },
  {
   "cell_type": "code",
   "execution_count": 76,
   "id": "e3324303-6a68-4bfc-9e77-662abeb89dcf",
   "metadata": {},
   "outputs": [],
   "source": [
    "def gridspacing_var_to_array(var, nz):\n",
    "    L = 5e-3\n",
    "    vars = np.array(['cmts', 'ch2', 'chcl','d','phi','xi'])\n",
    "#          var_index= 0       1      2      3   4     5\n",
    "    var_index = var\n",
    "    which_var = str(vars[var_index])\n",
    "    \n",
    "    with open(r'/Users/jjmarzia/Desktop/cvisim/grid_spacing/jul3-nz/'+which_var+'/a1_'+str(nz)+'.txt','r') as file:\n",
    "        data = file.read().split(' ')\n",
    "        # print(data)\n",
    "        i=0\n",
    "        for i in range(len(data)):\n",
    "            if '\\n' in data[i]:\n",
    "                data[i] = data[i].replace('\\n', '')\n",
    "            i=i+1\n",
    "        # print(data)\n",
    "        data = [i for i in data if i]\n",
    "        data = np.array(data)\n",
    "        data = data.astype(float)\n",
    "    if var_index == 5:\n",
    "        return np.linspace(0,L, 28), data, which_var\n",
    "    else:\n",
    "        return np.linspace(0,L, nz), data, which_var"
   ]
  },
  {
   "cell_type": "code",
   "execution_count": 77,
   "id": "ea145964-2561-4dae-9a92-7785401e916f",
   "metadata": {},
   "outputs": [],
   "source": [
    "def plot_allnz(var):\n",
    "    fig, ax = plt.subplots(figsize = (5,2), layout='constrained')\n",
    "\n",
    "    nzs = np.array([28, 52, 100, 200, 400, 800, 1000])\n",
    "    i=0\n",
    "    for i in range(len(nzs)):\n",
    "        fsol = gridspacing_var_to_array(var,nzs[i])\n",
    "        plt.plot(fsol[0], fsol[1],label=str(fsol[2])+' nz '+str(nzs[i]))\n",
    "        i = i+1\n",
    "\n",
    "    plt.legend(bbox_to_anchor=(1.05, 1), loc=\"upper left\")\n",
    "    plt.grid(True)\n",
    "    # plt.ylim([0,1])"
   ]
  },
  {
   "cell_type": "code",
   "execution_count": 78,
   "id": "7e2bfb57-67ce-44f4-a7bd-157c8109cfa2",
   "metadata": {},
   "outputs": [],
   "source": [
    "def plot_all_grids():\n",
    "    plot_allnz(0)\n",
    "    # plt.ylim([0,2])\n",
    "    plot_allnz(1)\n",
    "    # plt.ylim([0,2])\n",
    "    plot_allnz(2)\n",
    "    # plt.ylim([0,2])\n",
    "    plot_allnz(3)\n",
    "    plt.ylim([0,50e-6])\n",
    "    plot_allnz(4)\n",
    "    plt.ylim([0,100e-6])\n",
    "    plot_allnz(5)\n",
    "    plt.ylim([0,1])"
   ]
  },
  {
   "cell_type": "code",
   "execution_count": 79,
   "id": "0a19cc41-a1a6-47f1-bbc7-4364d6187496",
   "metadata": {},
   "outputs": [],
   "source": [
    "def fit_points(var, coarsenz, finenz):\n",
    "    coarse_grid = gridspacing_var_to_array(var, coarsenz)\n",
    "    fine_grid = gridspacing_var_to_array(var, finenz)\n",
    "\n",
    "    c_in_f = np.around(np.linspace(0,finenz-1,coarsenz))\n",
    "    # print(c_in_f)\n",
    "    f_c = []\n",
    "    q=0\n",
    "    for q in range(len(c_in_f)):\n",
    "        f_c = np.append(f_c, fine_grid[1][round(c_in_f[q])])\n",
    "        q+=1\n",
    "    return f_c"
   ]
  },
  {
   "cell_type": "code",
   "execution_count": 80,
   "id": "6daf8871-e876-4c57-875c-7f86fe36d362",
   "metadata": {},
   "outputs": [],
   "source": [
    "def calc_norm(var, coarsenz, finenz):\n",
    "\n",
    "    \n",
    "    coarse_grid = gridspacing_var_to_array(var, coarsenz)\n",
    "    if var==5:\n",
    "        fine_grid = gridspacing_var_to_array(var, finenz)\n",
    "    else:\n",
    "        fine_grid = fit_points(var, coarsenz, finenz)\n",
    "    norm_c_f = np.linalg.norm(fine_grid[1]-coarse_grid[1], np.inf)\n",
    "    return norm_c_f"
   ]
  },
  {
   "cell_type": "code",
   "execution_count": 99,
   "id": "41a0844b-ebd4-42dd-9d2e-17e87fa2310a",
   "metadata": {},
   "outputs": [],
   "source": [
    "def calc_all_norms(var, finenz):\n",
    "    nzs = np.array([28, 52, 100, 200, 400, 800])\n",
    "    hs = 1/nzs\n",
    "    n0 = calc_norm(var, nzs[0], finenz)\n",
    "    n1 = calc_norm(var, nzs[1], finenz)\n",
    "    n2 = calc_norm(var, nzs[2], finenz)\n",
    "    n3 = calc_norm(var, nzs[3], finenz)\n",
    "    n4 = calc_norm(var, nzs[4], finenz)\n",
    "    n5 = calc_norm(var, nzs[5], finenz)\n",
    "    norms = np.array([n0, n1, n2, n3, n4, n5])\n",
    "    norm_slope = (n5-n0)/(hs[len(hs)-1]-hs[0])\n",
    "    print(n1,n0)\n",
    "    print(hs[1],hs[0])\n",
    "    return hs, norms, norm_slope\n"
   ]
  },
  {
   "cell_type": "code",
   "execution_count": 105,
   "id": "2c467142-15c2-47b0-b2a4-ff56c8d658cc",
   "metadata": {},
   "outputs": [],
   "source": [
    "# fig, ax = plt.subplots(figsize = (5.8,2.7), layout='constrained')\n",
    "# ax.set_xscale(\"log\")\n",
    "# ax.set_yscale(\"log\")\n",
    "\n",
    "# a = calc_all_norms(1, 1000)\n",
    "\n",
    "\n",
    "# plt.scatter(a[0],a[1],color='red')\n",
    "# plt.grid(True)\n",
    "# # plt.ylim(1e-4,1e-1)\n",
    "# # plt.xlim(1e-4, 1e-1)\n",
    "\n",
    "# print('norm_slope =',a[2])\n",
    "\n",
    "\n",
    "# plot_all_grids()"
   ]
  },
  {
   "cell_type": "code",
   "execution_count": 130,
   "id": "8855db63-c583-4c63-b136-2efc7bb6c723",
   "metadata": {},
   "outputs": [
    {
     "data": {
      "image/png": "[encoded data removed]",
      "text/plain": [
       "<Figure size 640x480 with 1 Axes>"
      ]
     },
     "metadata": {},
     "output_type": "display_data"
    }
   ],
   "source": [
    "a1 = fit_points(4, 28, 1000)\n",
    "a2 = fit_points(4, 52, 1000)\n",
    "a3 = fit_points(4, 100, 1000)\n",
    "a4 = fit_points(4, 200, 1000)\n",
    "a5 = fit_points(4, 400, 1000)\n",
    "a6 = fit_points(4, 800, 1000)\n",
    "\n",
    "b = gridspacing_var_to_array(4, 1000)\n",
    "c = gridspacing_var_to_array(4, 28)\n",
    "d = gridspacing_var_to_array(4, 52)\n",
    "f = gridspacing_var_to_array(4, 100)\n",
    "g = gridspacing_var_to_array(4, 200)\n",
    "h = gridspacing_var_to_array(4, 400)\n",
    "j = gridspacing_var_to_array(4, 800)\n",
    "\n",
    "\n",
    "\n",
    "plt.scatter(np.linspace(0,5e-3, len(a1)), a1)\n",
    "plt.scatter(np.linspace(0,5e-3, len(a2)), a2)\n",
    "plt.scatter(np.linspace(0,5e-3, len(a3)), a3)\n",
    "plt.scatter(np.linspace(0,5e-3, len(a4)), a4)\n",
    "plt.scatter(np.linspace(0,5e-3, len(a5)), a5)\n",
    "plt.scatter(np.linspace(0,5e-3, len(a6)), a6)\n",
    "\n",
    "plt.scatter(np.linspace(0,5e-3, len(j[1])), j[1])\n",
    "plt.scatter(np.linspace(0,5e-3, len(h[1])), h[1])\n",
    "plt.scatter(np.linspace(0,5e-3, len(g[1])), g[1])\n",
    "plt.scatter(np.linspace(0,5e-3, len(f[1])), f[1])\n",
    "plt.scatter(np.linspace(0,5e-3, len(d[1])), d[1])\n",
    "plt.scatter(np.linspace(0,5e-3, len(c[1])), c[1])\n",
    "plt.scatter(np.linspace(0,5e-3, len(b[1])), b[1])\n",
    "\n",
    "plt.grid(True)\n"
   ]
  },
  {
   "cell_type": "code",
   "execution_count": null,
   "id": "f1496623-5879-4852-9d53-ca167271d567",
   "metadata": {},
   "outputs": [],
   "source": []
  },
  {
   "cell_type": "code",
   "execution_count": null,
   "id": "8dd00768-514e-4d6f-8c36-5bb2c07bbd4a",
   "metadata": {},
   "outputs": [],
   "source": []
  }
 ],
 "metadata": {
  "kernelspec": {
   "display_name": "Python 3 (ipykernel)",
   "language": "python",
   "name": "python3"
  },
  "language_info": {
   "codemirror_mode": {
    "name": "ipython",
    "version": 3
   },
   "file_extension": ".py",
   "mimetype": "text/x-python",
   "name": "python",
   "nbconvert_exporter": "python",
   "pygments_lexer": "ipython3",
   "version": "3.11.4"
  }
 },
 "nbformat": 4,
 "nbformat_minor": 5
}
