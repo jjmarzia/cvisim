{
 "cells": [
  {
   "cell_type": "code",
   "execution_count": 5,
   "id": "561e4a48-dbc6-46a4-b054-7c91890f5bd9",
   "metadata": {},
   "outputs": [
    {
     "ename": "ModuleNotFoundError",
     "evalue": "No module named 'schemdraw'",
     "output_type": "error",
     "traceback": [
      "\u001b[0;31m---------------------------------------------------------------------------\u001b[0m",
      "\u001b[0;31mModuleNotFoundError\u001b[0m                       Traceback (most recent call last)",
      "Cell \u001b[0;32mIn [5], line 1\u001b[0m\n\u001b[0;32m----> 1\u001b[0m \u001b[38;5;28;01mfrom\u001b[39;00m \u001b[38;5;21;01mschemdraw\u001b[39;00m \u001b[38;5;28;01mimport\u001b[39;00m flow\n\u001b[1;32m      2\u001b[0m \u001b[38;5;28;01mwith\u001b[39;00m schemdraw\u001b[38;5;241m.\u001b[39mDrawing() \u001b[38;5;28;01mas\u001b[39;00m d:\n\u001b[1;32m      3\u001b[0m     d\u001b[38;5;241m.\u001b[39mconfig(fontsize\u001b[38;5;241m=\u001b[39m\u001b[38;5;241m11\u001b[39m)\n",
      "\u001b[0;31mModuleNotFoundError\u001b[0m: No module named 'schemdraw'"
     ]
    }
   ],
   "source": [
    "\n",
    "from schemdraw import flow\n",
    "with schemdraw.Drawing() as d:\n",
    "    d.config(fontsize=11)\n",
    "    d += (b := flow.Start().label('START'))\n",
    "    d += flow.Arrow().down(d.unit/2)\n",
    "    d += (d1 := flow.Decision(w=5, h=3.9, E='YES', S='NO').label('DO YOU\\nUNDERSTAND\\nFLOW CHARTS?'))\n",
    "    d += flow.Arrow().length(d.unit/2)\n",
    "    d += (d2 := flow.Decision(w=5, h=3.9, E='YES', S='NO').label('OKAY,\\nYOU SEE THE\\nLINE LABELED\\n\"YES\"?'))\n",
    "    d += flow.Arrow().length(d.unit/2)\n",
    "    d += (d3 := flow.Decision(w=5.2, h=3.9, E='YES', S='NO').label('BUT YOU\\nSEE THE ONES\\nLABELED \"NO\".'))\n",
    "\n",
    "    d += flow.Arrow().right(d.unit/2).at(d3.E)\n",
    "    d += flow.Box(w=2, h=1.25).anchor('W').label('WAIT,\\nWHAT?')\n",
    "    d += flow.Arrow().down(d.unit/2).at(d3.S)\n",
    "    d += (listen := flow.Box(w=2, h=1).label('LISTEN.'))\n",
    "    d += flow.Arrow().right(d.unit/2).at(listen.E)\n",
    "    d += (hate := flow.Box(w=2, h=1.25).anchor('W').label('I HATE\\nYOU.'))\n",
    "\n",
    "    d += flow.Arrow().right(d.unit*3.5).at(d1.E)\n",
    "    d += (good := flow.Box(w=2, h=1).anchor('W').label('GOOD'))\n",
    "    d += flow.Arrow().right(d.unit*1.5).at(d2.E)\n",
    "    d += (d4 := flow.Decision(w=5.3, h=4.0, E='YES', S='NO').anchor('W').label('...AND YOU CAN\\nSEE THE ONES\\nLABELED \"NO\"?'))\n",
    "\n",
    "    d += flow.Wire('-|', arrow='->').at(d4.E).to(good.S)\n",
    "    d += flow.Arrow().down(d.unit/2).at(d4.S)\n",
    "    d += (d5 := flow.Decision(w=5, h=3.6, E='YES', S='NO').label('BUT YOU\\nJUST FOLLOWED\\nTHEM TWICE!'))\n",
    "    d += flow.Arrow().right().at(d5.E)\n",
    "    d += (question := flow.Box(w=3.5, h=1.75).anchor('W').label(\"(THAT WASN'T\\nA QUESTION.)\"))\n",
    "    d += flow.Wire('n', k=-1, arrow='->').at(d5.S).to(question.S)\n",
    "\n",
    "    d += flow.Line().at(good.E).tox(question.S)\n",
    "    d += flow.Arrow().down()\n",
    "    d += (drink := flow.Box(w=2.5, h=1.5).label(\"LET'S GO\\nDRINK.\"))\n",
    "    d += flow.Arrow().right().at(drink.E).label('6 DRINKS')\n",
    "    d += flow.Box(w=3.7, h=2).anchor('W').label('HEY, I SHOULD\\nTRY INSTALLING\\nFREEBSD!')\n",
    "    d += flow.Arrow().up(d.unit*.75).at(question.N)\n",
    "    d += (screw := flow.Box(w=2.5, h=1).anchor('S').label('SCREW IT.'))\n",
    "    d += flow.Arrow().at(screw.N).toy(drink.S)"
   ]
  },
  {
   "cell_type": "code",
   "execution_count": null,
   "id": "976a30c4-b240-40c8-a25a-c89cd1e08581",
   "metadata": {},
   "outputs": [],
   "source": []
  },
  {
   "cell_type": "code",
   "execution_count": null,
   "id": "6ba007eb-4135-4b20-8560-4f65817add16",
   "metadata": {},
   "outputs": [],
   "source": []
  }
 ],
 "metadata": {
  "kernelspec": {
   "display_name": "Python 3 (ipykernel)",
   "language": "python",
   "name": "python3"
  },
  "language_info": {
   "codemirror_mode": {
    "name": "ipython",
    "version": 3
   },
   "file_extension": ".py",
   "mimetype": "text/x-python",
   "name": "python",
   "nbconvert_exporter": "python",
   "pygments_lexer": "ipython3",
   "version": "3.11.4"
  }
 },
 "nbformat": 4,
 "nbformat_minor": 5
}
