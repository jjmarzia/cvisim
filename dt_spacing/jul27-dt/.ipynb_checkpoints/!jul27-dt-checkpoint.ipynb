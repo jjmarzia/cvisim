{
 "cells": [
  {
   "cell_type": "code",
   "execution_count": 1,
   "id": "9a67403d-01f8-4108-93be-8bf0d17bc583",
   "metadata": {},
   "outputs": [],
   "source": [
    "# import sys\n",
    "# !{sys.executable} -m pip install matplotlib\n",
    "\n",
    "import numpy as np\n",
    "import math\n",
    "import matplotlib\n",
    "import matplotlib.pyplot as plt\n",
    "plt.rcParams.update({'font.size': 11})"
   ]
  },
  {
   "cell_type": "code",
   "execution_count": 2,
   "id": "e3324303-6a68-4bfc-9e77-662abeb89dcf",
   "metadata": {},
   "outputs": [],
   "source": [
    "def timespacing_var_to_array(var, dt):\n",
    "    L = 5e-3\n",
    "    vars = np.array(['cmts', 'ch2', 'chcl','d','phi','xi'])\n",
    "#          var_index= 0       1      2      3   4     5\n",
    "    var_index = var\n",
    "    which_var = str(vars[var_index])\n",
    "    \n",
    "    with open(r'/Users/jjmarzia/Desktop/cvisim/dt_spacing/jul27-dt/'+which_var+'/a1_'+str(dt)+'.txt','r') as file:\n",
    "        data = file.read().split(' ')\n",
    "        # print(data)\n",
    "        i=0\n",
    "        for i in range(len(data)):\n",
    "            if '\\n' in data[i]:\n",
    "                data[i] = data[i].replace('\\n', '')\n",
    "            i=i+1\n",
    "        # print(data)\n",
    "        data = [i for i in data if i]\n",
    "        data = np.array(data)\n",
    "        data = data.astype(float)\n",
    "        data = data*3.16666666667*6.66\n",
    "    # if var_index == 5:\n",
    "        return np.linspace(0,L, 28), data, which_var\n",
    "    # else:\n",
    "    #     return np.linspace(0,L, dt), data, which_var"
   ]
  },
  {
   "cell_type": "code",
   "execution_count": 3,
   "id": "5864b9c6-2ab3-4b4b-b107-2fef206577d7",
   "metadata": {},
   "outputs": [],
   "source": [
    "def calc_norm(var, coarsenz, finenz):\n",
    "\n",
    "    \n",
    "    coarse_grid = timespacing_var_to_array(var, coarsenz)\n",
    "    if var==5:\n",
    "        fine_grid = timespacing_var_to_array(var, finenz)\n",
    "    else:\n",
    "        fine_grid = fit_points(var, coarsenz, finenz)\n",
    "    norm_c_f = np.linalg.norm(fine_grid[1]-coarse_grid[1], np.inf)\n",
    "    return norm_c_f"
   ]
  },
  {
   "cell_type": "code",
   "execution_count": 25,
   "id": "a725cf11-17d7-4e97-8978-622d495b55b6",
   "metadata": {},
   "outputs": [
    {
     "name": "stdout",
     "output_type": "stream",
     "text": [
      "1.0431746700010893\n"
     ]
    },
    {
     "data": {
      "image/png": "[encoded data removed]",
      "text/plain": [
       "<Figure size 520x270 with 1 Axes>"
      ]
     },
     "metadata": {},
     "output_type": "display_data"
    }
   ],
   "source": [
    "vartemp = 5 #xi\n",
    "\n",
    "z = timespacing_var_to_array(vartemp, 0.002)\n",
    "a1 = timespacing_var_to_array(vartemp, 0.05)\n",
    "a2 = timespacing_var_to_array(vartemp, 0.06)\n",
    "a3 = timespacing_var_to_array(vartemp, 0.07)\n",
    "a4 = timespacing_var_to_array(vartemp, 0.08)\n",
    "a5 = timespacing_var_to_array(vartemp, 0.09)\n",
    "a6 = timespacing_var_to_array(vartemp, 0.1)\n",
    "b1 = timespacing_var_to_array(vartemp, 10)\n",
    "b2 = timespacing_var_to_array(vartemp, 20)\n",
    "b3 = timespacing_var_to_array(vartemp, 30)\n",
    "\n",
    "norm_z_a1 = np.linalg.norm(z[1]-a1[1], np.inf)\n",
    "norm_z_a2 = np.linalg.norm(z[1]-a2[1], np.inf)\n",
    "norm_z_a3 = np.linalg.norm(z[1]-a3[1], np.inf)\n",
    "norm_z_a4 = np.linalg.norm(z[1]-a4[1], np.inf)\n",
    "norm_z_a5 = np.linalg.norm(z[1]-a5[1], np.inf)\n",
    "norm_z_a6 = np.linalg.norm(z[1]-a6[1], np.inf)\n",
    "norm_z_b1 = np.linalg.norm(z[1]-b1[1], np.inf)\n",
    "norm_z_b2 = np.linalg.norm(z[1]-b2[1], np.inf)\n",
    "norm_z_b3 = np.linalg.norm(z[1]-b3[1], np.inf)\n",
    "\n",
    "# norms = np.array([norm_z_a1, norm_z_a2, norm_z_a3, norm_z_a4, norm_z_a5, norm_z_a6, norm_z_b1, norm_z_b2, norm_z_b3])\n",
    "# nzs = np.array([0.05, 0.06, 0.07, 0.08, 0.09, 0.1, 10, 20, 30])\n",
    "norms = np.array([norm_z_a1, norm_z_a2, norm_z_a3, norm_z_a4, norm_z_a5, norm_z_a6])\n",
    "nzs = np.array([0.05, 0.06, 0.07, 0.08, 0.09, 0.1])\n",
    "\n",
    "hs = 1/nzs\n",
    "fig, ax = plt.subplots(figsize = (5.2,2.7), layout='constrained')\n",
    "plt.scatter(nzs, norms,color='red')\n",
    "\n",
    "ax.set_xscale(\"log\")\n",
    "ax.set_yscale(\"log\")\n",
    "plt.xlim(4e-2,1.1e-1)\n",
    "plt.ylim(8e-2,1.4e-1)\n",
    "\n",
    "plt.xlabel('time step')\n",
    "plt.ylabel(r'$\\xi$ error')\n",
    "plt.grid(True)\n",
    "\n",
    "norm_slope = (norm_z_a3-norm_z_a2)/(0.07-0.06)\n",
    "# norm_slope = (norm_z_n-norm_z_a1)/(100-10e-2)\n",
    "# print(norm_z_a2)\n",
    "print(norm_slope)\n",
    "\n",
    "plt.savefig('dt_loglog.svg', dpi=220,bbox_inches='tight')\n",
    "plt.savefig('dt_loglog.pdf', dpi=220,bbox_inches='tight')"
   ]
  },
  {
   "cell_type": "code",
   "execution_count": 15,
   "id": "fbc97402-11f6-41f7-b5f3-a94e3b4b4736",
   "metadata": {},
   "outputs": [],
   "source": [
    "# fig, ax = plt.subplots(figsize = (5.8,2.7), layout='constrained')\n",
    "# ax.set_xscale(\"log\")\n",
    "# ax.set_yscale(\"log\")\n",
    "\n",
    "# a = calc_all_norms(5, 0.1)\n",
    "# plt.scatter(a[0],a[1],color='red')\n",
    "# plt.grid(True)\n",
    "# # plt.ylim(1e-4,1e-1)\n",
    "# # plt.xlim(1e-4, 1e-1)\n",
    "\n",
    "# print('norm_slope =',a[2])\n",
    "\n",
    "\n",
    "# plot_all_grids()"
   ]
  },
  {
   "cell_type": "code",
   "execution_count": 6,
   "id": "612f6dad-b9cb-492d-89d2-1aaaaddcd7eb",
   "metadata": {},
   "outputs": [],
   "source": [
    "# plot_all_vars()"
   ]
  },
  {
   "cell_type": "code",
   "execution_count": 7,
   "id": "b8a12e61-51fd-4833-ab56-783083faa275",
   "metadata": {},
   "outputs": [],
   "source": [
    "# def fit_points(var, coarsenz, finenz):\n",
    "#     coarse_grid = timespacing_var_to_array(var, coarsenz)\n",
    "#     fine_grid = timespacing_var_to_array(var, finenz)\n",
    "\n",
    "#     c_in_f = np.around(np.linspace(0,finenz-1,coarsenz))\n",
    "#     # print(c_in_f)\n",
    "#     f_c = []\n",
    "#     q=0\n",
    "#     for q in range(len(c_in_f)):\n",
    "#         f_c = np.append(f_c, fine_grid[1][round(c_in_f[q])])\n",
    "#         q+=1\n",
    "#     return f_c"
   ]
  },
  {
   "cell_type": "code",
   "execution_count": 8,
   "id": "ea145964-2561-4dae-9a92-7785401e916f",
   "metadata": {},
   "outputs": [],
   "source": [
    "# def plot_alldt(var):\n",
    "#     fig, ax = plt.subplots(figsize = (5.5,2.7), layout='constrained')\n",
    "\n",
    "#     # dts = np.array(['0.1', '0.5', '1', '2.5', '5', '7.5', '10', '25', '50', '100'])\n",
    "#     # dts = np.array([0.001, 0.05, 0.06, 0.07, 0.08, 0.09, 0.1])\n",
    "#     dts = np.array([10, 20, 30])\n",
    "#     dts = dts[::-1]\n",
    "#     i=0\n",
    "#     for i in range(len(dts)):\n",
    "#         fsol = timespacing_var_to_array(var,dts[i])\n",
    "#         # plt.plot(fsol[0], fsol[1],label=str(fsol[2])+' dt '+str(dts[i]))\n",
    "#         plt.plot(fsol[0], fsol[1],label=r'$\\Delta t =$'+str(dts[i]))\n",
    "#         i = i+1\n",
    "\n",
    "#     plt.legend(bbox_to_anchor=(1.05, 1), loc=\"upper left\")\n",
    "#     plt.grid(True)\n",
    "#     # plt.ylim([0,1])"
   ]
  },
  {
   "cell_type": "code",
   "execution_count": 9,
   "id": "77b1efed-73de-4f34-bfa8-56b6fabc98e2",
   "metadata": {},
   "outputs": [],
   "source": [
    "# plot_alldt(5)\n",
    "# plt.xlim([0,0.005])\n",
    "# plt.ylim([0,0.5])\n",
    "# plt.ylabel(r'$\\xi$')\n",
    "# plt.xlabel(r'z')\n",
    "\n",
    "# plt.savefig('dtall_combined.pdf', dpi=220,bbox_inches='tight')\n",
    "# plt.savefig('dtall_combined.svg', dpi=220,bbox_inches='tight')"
   ]
  },
  {
   "cell_type": "code",
   "execution_count": 10,
   "id": "7e2bfb57-67ce-44f4-a7bd-157c8109cfa2",
   "metadata": {},
   "outputs": [],
   "source": [
    "# def plot_all_vars():\n",
    "#     plot_alldt(0)\n",
    "#     plt.ylim([0,2])\n",
    "#     plot_alldt(1)\n",
    "#     plt.ylim([0,2])\n",
    "#     plot_alldt(2)\n",
    "#     plt.ylim([0,2])\n",
    "#     plot_alldt(3)\n",
    "#     plt.ylim([0,50e-6])\n",
    "#     plot_alldt(4)\n",
    "#     plt.ylim([0,100e-6])\n",
    "#     plot_alldt(5)\n",
    "#     plt.ylim([0,1])"
   ]
  },
  {
   "cell_type": "code",
   "execution_count": 11,
   "id": "2f0c5f6e-052b-41a0-9c23-613d8f7d9018",
   "metadata": {},
   "outputs": [],
   "source": [
    "# def calc_all_norms(var, finenz):\n",
    "#     nzs = np.array([50, 25, 10, 7.5, 5, 2.5, 1, 0.5, 0.1])\n",
    "#     hs = 1/nzs\n",
    "#     n0 = calc_norm(var, nzs[0], finenz)\n",
    "#     n1 = calc_norm(var, nzs[1], finenz)\n",
    "#     n2 = calc_norm(var, nzs[2], finenz)\n",
    "#     n3 = calc_norm(var, nzs[3], finenz)\n",
    "#     n4 = calc_norm(var, nzs[4], finenz)\n",
    "#     n5 = calc_norm(var, nzs[5], finenz)\n",
    "#     n6 = calc_norm(var, nzs[6], finenz)\n",
    "#     n7 = calc_norm(var, nzs[7], finenz)\n",
    "#     n8 = calc_norm(var, nzs[8], finenz)\n",
    "#     norms = np.array([n0, n1, n2, n3, n4, n5, n6, n7, n8])\n",
    "#     norm_slope = (n8-n0)/(hs[len(hs)-1]-hs[0])\n",
    "#     return hs, norms, norm_slope\n"
   ]
  },
  {
   "cell_type": "code",
   "execution_count": null,
   "id": "8855db63-c583-4c63-b136-2efc7bb6c723",
   "metadata": {},
   "outputs": [],
   "source": []
  },
  {
   "cell_type": "code",
   "execution_count": null,
   "id": "f1496623-5879-4852-9d53-ca167271d567",
   "metadata": {},
   "outputs": [],
   "source": []
  },
  {
   "cell_type": "code",
   "execution_count": null,
   "id": "8dd00768-514e-4d6f-8c36-5bb2c07bbd4a",
   "metadata": {},
   "outputs": [],
   "source": []
  }
 ],
 "metadata": {
  "kernelspec": {
   "display_name": "Python 3 (ipykernel)",
   "language": "python",
   "name": "python3"
  },
  "language_info": {
   "codemirror_mode": {
    "name": "ipython",
    "version": 3
   },
   "file_extension": ".py",
   "mimetype": "text/x-python",
   "name": "python",
   "nbconvert_exporter": "python",
   "pygments_lexer": "ipython3",
   "version": "3.11.4"
  }
 },
 "nbformat": 4,
 "nbformat_minor": 5
}
