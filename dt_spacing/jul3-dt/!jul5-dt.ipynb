{
 "cells": [
  {
   "cell_type": "code",
   "execution_count": 1,
   "id": "9a67403d-01f8-4108-93be-8bf0d17bc583",
   "metadata": {},
   "outputs": [],
   "source": [
    "import numpy as np\n",
    "import math\n",
    "import matplotlib\n",
    "import matplotlib.pyplot as plt\n",
    "plt.rcParams.update({'font.size': 11})"
   ]
  },
  {
   "cell_type": "code",
   "execution_count": 2,
   "id": "e3324303-6a68-4bfc-9e77-662abeb89dcf",
   "metadata": {},
   "outputs": [],
   "source": [
    "def timespacing_var_to_array(var, dt):\n",
    "    L = 5e-3\n",
    "    vars = np.array(['cmts', 'ch2', 'chcl','d','phi','xi'])\n",
    "#          var_index= 0       1      2      3   4     5\n",
    "    var_index = var\n",
    "    which_var = str(vars[var_index])\n",
    "    \n",
    "    with open(r'/Users/jjmarzia/Desktop/cvisim/dt_spacing/jul3-dt/'+which_var+'/a1_'+str(dt)+'.txt','r') as file:\n",
    "        data = file.read().split(' ')\n",
    "        # print(data)\n",
    "        i=0\n",
    "        for i in range(len(data)):\n",
    "            if '\\n' in data[i]:\n",
    "                data[i] = data[i].replace('\\n', '')\n",
    "            i=i+1\n",
    "        # print(data)\n",
    "        data = [i for i in data if i]\n",
    "        data = np.array(data)\n",
    "        data = data.astype(float)\n",
    "    # if var_index == 5:\n",
    "        return np.linspace(0,L, 28), data, which_var\n",
    "    # else:\n",
    "    #     return np.linspace(0,L, dt), data, which_var"
   ]
  },
  {
   "cell_type": "code",
   "execution_count": 3,
   "id": "ea145964-2561-4dae-9a92-7785401e916f",
   "metadata": {},
   "outputs": [],
   "source": [
    "def plot_alldt(var):\n",
    "    fig, ax = plt.subplots(figsize = (5,3), layout='constrained')\n",
    "\n",
    "    dts = np.array(['0.1', '0.5', '1', '2.5', '5', '7.5', '10', '25', '50', '100'])\n",
    "    i=0\n",
    "    for i in range(len(dts)):\n",
    "        fsol = timespacing_var_to_array(var,dts[i])\n",
    "        plt.plot(fsol[0], fsol[1],label=str(fsol[2])+' dt '+str(dts[i]))\n",
    "        i = i+1\n",
    "\n",
    "    plt.legend(bbox_to_anchor=(1.05, 1), loc=\"upper left\")\n",
    "    plt.grid(True)\n",
    "    # plt.ylim([0,1])"
   ]
  },
  {
   "cell_type": "code",
   "execution_count": 4,
   "id": "7e2bfb57-67ce-44f4-a7bd-157c8109cfa2",
   "metadata": {},
   "outputs": [],
   "source": [
    "def plot_all_vars():\n",
    "    plot_alldt(0)\n",
    "    plt.ylim([0,2])\n",
    "    plot_alldt(1)\n",
    "    plt.ylim([0,2])\n",
    "    plot_alldt(2)\n",
    "    plt.ylim([0,2])\n",
    "    plot_alldt(3)\n",
    "    plt.ylim([0,50e-6])\n",
    "    plot_alldt(4)\n",
    "    plt.ylim([0,100e-6])\n",
    "    plot_alldt(5)\n",
    "    plt.ylim([0,1])"
   ]
  },
  {
   "cell_type": "code",
   "execution_count": 5,
   "id": "b8a12e61-51fd-4833-ab56-783083faa275",
   "metadata": {},
   "outputs": [],
   "source": [
    "def fit_points(var, coarsenz, finenz):\n",
    "    coarse_grid = timespacing_var_to_array(var, coarsenz)\n",
    "    fine_grid = timespacing_var_to_array(var, finenz)\n",
    "\n",
    "    c_in_f = np.around(np.linspace(0,finenz-1,coarsenz))\n",
    "    # print(c_in_f)\n",
    "    f_c = []\n",
    "    q=0\n",
    "    for q in range(len(c_in_f)):\n",
    "        f_c = np.append(f_c, fine_grid[1][round(c_in_f[q])])\n",
    "        q+=1\n",
    "    return f_c"
   ]
  },
  {
   "cell_type": "code",
   "execution_count": 6,
   "id": "5864b9c6-2ab3-4b4b-b107-2fef206577d7",
   "metadata": {},
   "outputs": [],
   "source": [
    "def calc_norm(var, coarsenz, finenz):\n",
    "\n",
    "    \n",
    "    coarse_grid = timespacing_var_to_array(var, coarsenz)\n",
    "    if var==5:\n",
    "        fine_grid = timespacing_var_to_array(var, finenz)\n",
    "    else:\n",
    "        fine_grid = fit_points(var, coarsenz, finenz)\n",
    "    norm_c_f = np.linalg.norm(fine_grid[1]-coarse_grid[1], np.inf)\n",
    "    return norm_c_f"
   ]
  },
  {
   "cell_type": "code",
   "execution_count": 7,
   "id": "2f0c5f6e-052b-41a0-9c23-613d8f7d9018",
   "metadata": {},
   "outputs": [],
   "source": [
    "def calc_all_norms(var, finenz):\n",
    "    nzs = np.array([50, 25, 10, 7.5, 5, 2.5, 1, 0.5, 0.1])\n",
    "    hs = 1/nzs\n",
    "    n0 = calc_norm(var, nzs[0], finenz)\n",
    "    n1 = calc_norm(var, nzs[1], finenz)\n",
    "    n2 = calc_norm(var, nzs[2], finenz)\n",
    "    n3 = calc_norm(var, nzs[3], finenz)\n",
    "    n4 = calc_norm(var, nzs[4], finenz)\n",
    "    n5 = calc_norm(var, nzs[5], finenz)\n",
    "    n6 = calc_norm(var, nzs[6], finenz)\n",
    "    n7 = calc_norm(var, nzs[7], finenz)\n",
    "    n8 = calc_norm(var, nzs[8], finenz)\n",
    "    norms = np.array([n0, n1, n2, n3, n4, n5, n6, n7, n8])\n",
    "    norm_slope = (n8-n0)/(hs[len(hs)-1]-hs[0])\n",
    "    return hs, norms, norm_slope\n"
   ]
  },
  {
   "cell_type": "code",
   "execution_count": 8,
   "id": "fbc97402-11f6-41f7-b5f3-a94e3b4b4736",
   "metadata": {},
   "outputs": [
    {
     "ename": "FileNotFoundError",
     "evalue": "[Errno 2] No such file or directory: '/Users/jjmarzia/Desktop/cvisim/dt_spacing/jul3-dt/xi/a1_50.0.txt'",
     "output_type": "error",
     "traceback": [
      "\u001b[0;31m---------------------------------------------------------------------------\u001b[0m",
      "\u001b[0;31mFileNotFoundError\u001b[0m                         Traceback (most recent call last)",
      "Cell \u001b[0;32mIn[8], line 5\u001b[0m\n\u001b[1;32m      2\u001b[0m ax\u001b[38;5;241m.\u001b[39mset_xscale(\u001b[38;5;124m\"\u001b[39m\u001b[38;5;124mlog\u001b[39m\u001b[38;5;124m\"\u001b[39m)\n\u001b[1;32m      3\u001b[0m ax\u001b[38;5;241m.\u001b[39mset_yscale(\u001b[38;5;124m\"\u001b[39m\u001b[38;5;124mlog\u001b[39m\u001b[38;5;124m\"\u001b[39m)\n\u001b[0;32m----> 5\u001b[0m a \u001b[38;5;241m=\u001b[39m \u001b[43mcalc_all_norms\u001b[49m\u001b[43m(\u001b[49m\u001b[38;5;241;43m5\u001b[39;49m\u001b[43m,\u001b[49m\u001b[43m \u001b[49m\u001b[38;5;241;43m0.1\u001b[39;49m\u001b[43m)\u001b[49m\n\u001b[1;32m      6\u001b[0m plt\u001b[38;5;241m.\u001b[39mscatter(a[\u001b[38;5;241m0\u001b[39m],a[\u001b[38;5;241m1\u001b[39m],color\u001b[38;5;241m=\u001b[39m\u001b[38;5;124m'\u001b[39m\u001b[38;5;124mred\u001b[39m\u001b[38;5;124m'\u001b[39m)\n\u001b[1;32m      7\u001b[0m plt\u001b[38;5;241m.\u001b[39mgrid(\u001b[38;5;28;01mTrue\u001b[39;00m)\n",
      "Cell \u001b[0;32mIn[7], line 4\u001b[0m, in \u001b[0;36mcalc_all_norms\u001b[0;34m(var, finenz)\u001b[0m\n\u001b[1;32m      2\u001b[0m nzs \u001b[38;5;241m=\u001b[39m np\u001b[38;5;241m.\u001b[39marray([\u001b[38;5;241m50\u001b[39m, \u001b[38;5;241m25\u001b[39m, \u001b[38;5;241m10\u001b[39m, \u001b[38;5;241m7.5\u001b[39m, \u001b[38;5;241m5\u001b[39m, \u001b[38;5;241m2.5\u001b[39m, \u001b[38;5;241m1\u001b[39m, \u001b[38;5;241m0.5\u001b[39m, \u001b[38;5;241m0.1\u001b[39m])\n\u001b[1;32m      3\u001b[0m hs \u001b[38;5;241m=\u001b[39m \u001b[38;5;241m1\u001b[39m\u001b[38;5;241m/\u001b[39mnzs\n\u001b[0;32m----> 4\u001b[0m n0 \u001b[38;5;241m=\u001b[39m \u001b[43mcalc_norm\u001b[49m\u001b[43m(\u001b[49m\u001b[43mvar\u001b[49m\u001b[43m,\u001b[49m\u001b[43m \u001b[49m\u001b[43mnzs\u001b[49m\u001b[43m[\u001b[49m\u001b[38;5;241;43m0\u001b[39;49m\u001b[43m]\u001b[49m\u001b[43m,\u001b[49m\u001b[43m \u001b[49m\u001b[43mfinenz\u001b[49m\u001b[43m)\u001b[49m\n\u001b[1;32m      5\u001b[0m n1 \u001b[38;5;241m=\u001b[39m calc_norm(var, nzs[\u001b[38;5;241m1\u001b[39m], finenz)\n\u001b[1;32m      6\u001b[0m n2 \u001b[38;5;241m=\u001b[39m calc_norm(var, nzs[\u001b[38;5;241m2\u001b[39m], finenz)\n",
      "Cell \u001b[0;32mIn[6], line 4\u001b[0m, in \u001b[0;36mcalc_norm\u001b[0;34m(var, coarsenz, finenz)\u001b[0m\n\u001b[1;32m      1\u001b[0m \u001b[38;5;28;01mdef\u001b[39;00m \u001b[38;5;21mcalc_norm\u001b[39m(var, coarsenz, finenz):\n\u001b[0;32m----> 4\u001b[0m     coarse_grid \u001b[38;5;241m=\u001b[39m \u001b[43mtimespacing_var_to_array\u001b[49m\u001b[43m(\u001b[49m\u001b[43mvar\u001b[49m\u001b[43m,\u001b[49m\u001b[43m \u001b[49m\u001b[43mcoarsenz\u001b[49m\u001b[43m)\u001b[49m\n\u001b[1;32m      5\u001b[0m     \u001b[38;5;28;01mif\u001b[39;00m var\u001b[38;5;241m==\u001b[39m\u001b[38;5;241m5\u001b[39m:\n\u001b[1;32m      6\u001b[0m         fine_grid \u001b[38;5;241m=\u001b[39m timespacing_var_to_array(var, finenz)\n",
      "Cell \u001b[0;32mIn[2], line 8\u001b[0m, in \u001b[0;36mtimespacing_var_to_array\u001b[0;34m(var, dt)\u001b[0m\n\u001b[1;32m      5\u001b[0m var_index \u001b[38;5;241m=\u001b[39m var\n\u001b[1;32m      6\u001b[0m which_var \u001b[38;5;241m=\u001b[39m \u001b[38;5;28mstr\u001b[39m(\u001b[38;5;28mvars\u001b[39m[var_index])\n\u001b[0;32m----> 8\u001b[0m \u001b[38;5;28;01mwith\u001b[39;00m \u001b[38;5;28;43mopen\u001b[39;49m\u001b[43m(\u001b[49m\u001b[38;5;124;43mr\u001b[39;49m\u001b[38;5;124;43m'\u001b[39;49m\u001b[38;5;124;43m/Users/jjmarzia/Desktop/cvisim/dt_spacing/jul3-dt/\u001b[39;49m\u001b[38;5;124;43m'\u001b[39;49m\u001b[38;5;241;43m+\u001b[39;49m\u001b[43mwhich_var\u001b[49m\u001b[38;5;241;43m+\u001b[39;49m\u001b[38;5;124;43m'\u001b[39;49m\u001b[38;5;124;43m/a1_\u001b[39;49m\u001b[38;5;124;43m'\u001b[39;49m\u001b[38;5;241;43m+\u001b[39;49m\u001b[38;5;28;43mstr\u001b[39;49m\u001b[43m(\u001b[49m\u001b[43mdt\u001b[49m\u001b[43m)\u001b[49m\u001b[38;5;241;43m+\u001b[39;49m\u001b[38;5;124;43m'\u001b[39;49m\u001b[38;5;124;43m.txt\u001b[39;49m\u001b[38;5;124;43m'\u001b[39;49m\u001b[43m,\u001b[49m\u001b[38;5;124;43m'\u001b[39;49m\u001b[38;5;124;43mr\u001b[39;49m\u001b[38;5;124;43m'\u001b[39;49m\u001b[43m)\u001b[49m \u001b[38;5;28;01mas\u001b[39;00m file:\n\u001b[1;32m      9\u001b[0m     data \u001b[38;5;241m=\u001b[39m file\u001b[38;5;241m.\u001b[39mread()\u001b[38;5;241m.\u001b[39msplit(\u001b[38;5;124m'\u001b[39m\u001b[38;5;124m \u001b[39m\u001b[38;5;124m'\u001b[39m)\n\u001b[1;32m     10\u001b[0m     \u001b[38;5;66;03m# print(data)\u001b[39;00m\n",
      "File \u001b[0;32m/Library/Frameworks/Python.framework/Versions/3.11/lib/python3.11/site-packages/IPython/core/interactiveshell.py:284\u001b[0m, in \u001b[0;36m_modified_open\u001b[0;34m(file, *args, **kwargs)\u001b[0m\n\u001b[1;32m    277\u001b[0m \u001b[38;5;28;01mif\u001b[39;00m file \u001b[38;5;129;01min\u001b[39;00m {\u001b[38;5;241m0\u001b[39m, \u001b[38;5;241m1\u001b[39m, \u001b[38;5;241m2\u001b[39m}:\n\u001b[1;32m    278\u001b[0m     \u001b[38;5;28;01mraise\u001b[39;00m \u001b[38;5;167;01mValueError\u001b[39;00m(\n\u001b[1;32m    279\u001b[0m         \u001b[38;5;124mf\u001b[39m\u001b[38;5;124m\"\u001b[39m\u001b[38;5;124mIPython won\u001b[39m\u001b[38;5;124m'\u001b[39m\u001b[38;5;124mt let you open fd=\u001b[39m\u001b[38;5;132;01m{\u001b[39;00mfile\u001b[38;5;132;01m}\u001b[39;00m\u001b[38;5;124m by default \u001b[39m\u001b[38;5;124m\"\u001b[39m\n\u001b[1;32m    280\u001b[0m         \u001b[38;5;124m\"\u001b[39m\u001b[38;5;124mas it is likely to crash IPython. If you know what you are doing, \u001b[39m\u001b[38;5;124m\"\u001b[39m\n\u001b[1;32m    281\u001b[0m         \u001b[38;5;124m\"\u001b[39m\u001b[38;5;124myou can use builtins\u001b[39m\u001b[38;5;124m'\u001b[39m\u001b[38;5;124m open.\u001b[39m\u001b[38;5;124m\"\u001b[39m\n\u001b[1;32m    282\u001b[0m     )\n\u001b[0;32m--> 284\u001b[0m \u001b[38;5;28;01mreturn\u001b[39;00m \u001b[43mio_open\u001b[49m\u001b[43m(\u001b[49m\u001b[43mfile\u001b[49m\u001b[43m,\u001b[49m\u001b[43m \u001b[49m\u001b[38;5;241;43m*\u001b[39;49m\u001b[43margs\u001b[49m\u001b[43m,\u001b[49m\u001b[43m \u001b[49m\u001b[38;5;241;43m*\u001b[39;49m\u001b[38;5;241;43m*\u001b[39;49m\u001b[43mkwargs\u001b[49m\u001b[43m)\u001b[49m\n",
      "\u001b[0;31mFileNotFoundError\u001b[0m: [Errno 2] No such file or directory: '/Users/jjmarzia/Desktop/cvisim/dt_spacing/jul3-dt/xi/a1_50.0.txt'"
     ]
    },
    {
     "data": {
      "image/png": "[encoded data removed]",
      "text/plain": [
       "<Figure size 580x270 with 1 Axes>"
      ]
     },
     "metadata": {},
     "output_type": "display_data"
    }
   ],
   "source": [
    "fig, ax = plt.subplots(figsize = (5.8,2.7), layout='constrained')\n",
    "ax.set_xscale(\"log\")\n",
    "ax.set_yscale(\"log\")\n",
    "\n",
    "a = calc_all_norms(5, 0.1)\n",
    "plt.scatter(a[0],a[1],color='red')\n",
    "plt.grid(True)\n",
    "# plt.ylim(1e-4,1e-1)\n",
    "# plt.xlim(1e-4, 1e-1)\n",
    "\n",
    "print('norm_slope =',a[2])\n",
    "\n",
    "\n",
    "# plot_all_grids()"
   ]
  },
  {
   "cell_type": "code",
   "execution_count": null,
   "id": "612f6dad-b9cb-492d-89d2-1aaaaddcd7eb",
   "metadata": {},
   "outputs": [],
   "source": [
    "# plot_all_vars()"
   ]
  },
  {
   "cell_type": "code",
   "execution_count": null,
   "id": "8855db63-c583-4c63-b136-2efc7bb6c723",
   "metadata": {},
   "outputs": [],
   "source": []
  },
  {
   "cell_type": "code",
   "execution_count": null,
   "id": "f1496623-5879-4852-9d53-ca167271d567",
   "metadata": {},
   "outputs": [],
   "source": []
  },
  {
   "cell_type": "code",
   "execution_count": null,
   "id": "8dd00768-514e-4d6f-8c36-5bb2c07bbd4a",
   "metadata": {},
   "outputs": [],
   "source": []
  }
 ],
 "metadata": {
  "kernelspec": {
   "display_name": "Python 3 (ipykernel)",
   "language": "python",
   "name": "python3"
  },
  "language_info": {
   "codemirror_mode": {
    "name": "ipython",
    "version": 3
   },
   "file_extension": ".py",
   "mimetype": "text/x-python",
   "name": "python",
   "nbconvert_exporter": "python",
   "pygments_lexer": "ipython3",
   "version": "3.11.4"
  }
 },
 "nbformat": 4,
 "nbformat_minor": 5
}
