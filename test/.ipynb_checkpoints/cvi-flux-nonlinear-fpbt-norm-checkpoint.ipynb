{
 "cells": [
  {
   "cell_type": "code",
   "execution_count": 2,
   "id": "bc31431c-c01b-4d08-81d9-65cda6b285e9",
   "metadata": {},
   "outputs": [
    {
     "name": "stdout",
     "output_type": "stream",
     "text": [
      "Requirement already satisfied: scipy in /Users/jjmarzia/anaconda3/lib/python3.11/site-packages (1.10.1)\n",
      "Requirement already satisfied: numpy<1.27.0,>=1.19.5 in /Users/jjmarzia/anaconda3/lib/python3.11/site-packages (from scipy) (1.24.3)\n"
     ]
    }
   ],
   "source": [
    "import sys\n",
    "!{sys.executable} -m pip install scipy\n",
    "\n",
    "import numpy as np\n",
    "import math\n",
    "import matplotlib\n",
    "import matplotlib.pyplot as plt\n",
    "import scipy\n",
    "from scipy import stats, optimize, interpolate\n",
    "from scipy.optimize import fsolve\n",
    "from scipy.integrate import odeint\n",
    "from scipy.integrate import solve_bvp\n",
    "from scipy.linalg import solve_banded\n",
    "import time\n",
    "start_time = time.time()\n",
    "# main()\n",
    "plt.rcParams.update({'font.size': 11})"
   ]
  },
  {
   "cell_type": "code",
   "execution_count": 3,
   "id": "4fc9a489-a540-4ab5-a887-bb3a32a2fdb9",
   "metadata": {},
   "outputs": [
    {
     "name": "stdout",
     "output_type": "stream",
     "text": [
      "[0.417 0.108 0.032]\n",
      "1.197473597504467\n",
      "0.9872472193709406\n"
     ]
    },
    {
     "data": {
      "image/png": "[encoded data removed]",
      "text/plain": [
       "<Figure size 640x480 with 1 Axes>"
      ]
     },
     "metadata": {},
     "output_type": "display_data"
    }
   ],
   "source": [
    "grids = np.array([28, 112, 224])\n",
    "n = 382.861\n",
    "norms = np.array([n-382.444, n-382.753, n-382.829])\n",
    "\n",
    "print(norms)\n",
    "\n",
    "plt.scatter(0.075/grids, norms)\n",
    "plt.xscale('log')\n",
    "plt.yscale('log')\n",
    "\n",
    "slope, intercept, r_value, p_value, std_err = scipy.stats.linregress(np.log(0.075/grids), np.log(norms))\n",
    "print(slope)\n",
    "print(r_value)"
   ]
  },
  {
   "cell_type": "code",
   "execution_count": null,
   "id": "9330e10e-8f04-46d7-8f98-8937a0849cc3",
   "metadata": {},
   "outputs": [],
   "source": []
  },
  {
   "cell_type": "code",
   "execution_count": 8,
   "id": "1cf35c48-3acd-434a-9812-c6d2d1283c4a",
   "metadata": {},
   "outputs": [],
   "source": [
    "# import sys\n",
    "# !{sys.executable} -m pip install imageio"
   ]
  },
  {
   "cell_type": "code",
   "execution_count": null,
   "id": "57a9fa4b-6826-4208-9372-1117fb704f08",
   "metadata": {},
   "outputs": [],
   "source": []
  }
 ],
 "metadata": {
  "kernelspec": {
   "display_name": "Python 3 (ipykernel)",
   "language": "python",
   "name": "python3"
  },
  "language_info": {
   "codemirror_mode": {
    "name": "ipython",
    "version": 3
   },
   "file_extension": ".py",
   "mimetype": "text/x-python",
   "name": "python",
   "nbconvert_exporter": "python",
   "pygments_lexer": "ipython3",
   "version": "3.11.4"
  }
 },
 "nbformat": 4,
 "nbformat_minor": 5
}
