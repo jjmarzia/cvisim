{
 "cells": [
  {
   "cell_type": "code",
   "execution_count": 1,
   "id": "bc4d460a-c943-47a2-93d8-b8688eacfec5",
   "metadata": {},
   "outputs": [],
   "source": [
    "import numpy as np\n",
    "import math\n",
    "import matplotlib\n",
    "import matplotlib.pyplot as plt\n",
    "\n",
    "L = 5e-3\n",
    "# nz = np.array([28,100,200,400,800])#400\n",
    "nz = np.array([28,100,200,52,800])#400\n",
    "a_x = np.linspace(0,L,nz[0])\n",
    "bx = np.linspace(0,L,nz[1])\n",
    "cx = np.linspace(0,L,nz[2])\n",
    "dx = np.linspace(0,L,nz[3])\n",
    "fx = np.linspace(0,L,nz[4])\n",
    "\n",
    "ay = np.loadtxt(\"untitled.txt\", dtype=float)\n",
    "ay = ay.ravel()\n",
    "by = np.loadtxt(\"untitled1.txt\", dtype=float)\n",
    "by = by.ravel()\n",
    "cy = np.loadtxt(\"untitled2.txt\", dtype=float)\n",
    "cy = cy.ravel()\n",
    "# dy = np.loadtxt(\"untitled3.txt\", dtype=float) #400\n",
    "dy = np.loadtxt(\"untitled3-Copy1.txt\", dtype=float) #52\n",
    "dy = dy.ravel()\n",
    "fy = np.loadtxt(\"untitled4.txt\", dtype=float)\n",
    "fy = fy.ravel()"
   ]
  },
  {
   "cell_type": "code",
   "execution_count": 2,
   "id": "b190e846-ea1a-46ce-85ba-e8de28113968",
   "metadata": {},
   "outputs": [],
   "source": [
    "a_in_f = np.around(np.linspace(0,nz[4]-1,nz[0]))\n",
    "f_ay = []\n",
    "q=0\n",
    "for q in range(len(a_in_f)):\n",
    "    f_ay = np.append(f_ay, fy[round(a_in_f[q])])\n",
    "    q+=1"
   ]
  },
  {
   "cell_type": "code",
   "execution_count": 3,
   "id": "26327e19-46cf-41f7-8a3b-07444480b29b",
   "metadata": {},
   "outputs": [],
   "source": [
    "b_in_f = np.around(np.linspace(0,nz[4]-1,nz[1]))\n",
    "f_by = []\n",
    "q=0\n",
    "for q in range(len(b_in_f)):\n",
    "    f_by = np.append(f_by, fy[round(b_in_f[q])])\n",
    "    q+=1"
   ]
  },
  {
   "cell_type": "code",
   "execution_count": 4,
   "id": "91b461df-3e2e-477e-a777-91d0daade3f2",
   "metadata": {},
   "outputs": [],
   "source": [
    "c_in_f = np.around(np.linspace(0,nz[4]-1,nz[2]))\n",
    "f_cy = []\n",
    "q=0\n",
    "for q in range(len(c_in_f)):\n",
    "    f_cy = np.append(f_cy, fy[round(c_in_f[q])])\n",
    "    q+=1"
   ]
  },
  {
   "cell_type": "code",
   "execution_count": 5,
   "id": "42531385-adfd-46e7-a0ab-cd2b0898fee3",
   "metadata": {},
   "outputs": [],
   "source": [
    "d_in_f = np.around(np.linspace(0,nz[4]-1,nz[3]))\n",
    "f_dy = []\n",
    "q=0\n",
    "for q in range(len(d_in_f)):\n",
    "    f_dy = np.append(f_dy, fy[round(d_in_f[q])])\n",
    "    q+=1"
   ]
  },
  {
   "cell_type": "code",
   "execution_count": 6,
   "id": "99c2aade-698a-44da-9154-070a23a294bf",
   "metadata": {},
   "outputs": [
    {
     "data": {
      "image/png": "[encoded data removed]",
      "text/plain": [
       "<Figure size 500x270 with 2 Axes>"
      ]
     },
     "metadata": {},
     "output_type": "display_data"
    }
   ],
   "source": [
    "# fig, ax = plt.subplots(figsize = (5,2.7), layout='constrained')\n",
    "\n",
    "\n",
    "# plt.scatter(fx,fy,color='red',label='nz 800')\n",
    "# plt.scatter(dx,dy,color='black',label='nz 400')\n",
    "# plt.scatter(cx,cy,color='magenta',label='nz 200')\n",
    "# plt.scatter(bx,by,color='green',label='nz 100')\n",
    "# plt.scatter(a_x,ay,color='blue',label='nz 28')\n",
    "# plt.ylim([0,1])\n",
    "# # plt.xticks(np.arange(0, 6, step=1))\n",
    "# ax.set_xlabel('z m')\n",
    "# ax.set_ylabel(r'$\\xi$')\n",
    "# ax.set_title(r'$\\xi_0 = 0.30, \\ \\alpha=1$') \n",
    "# ax.grid(True)\n",
    "# plt.legend(bbox_to_anchor=(1.05, 1), loc=\"upper left\")\n",
    "\n",
    "\n",
    "\n",
    "# plt.savefig('grid_spacing1.svg', dpi=220,bbox_inches='tight')\n",
    "\n",
    "fig, (ax, ax2) = plt.subplots(2, 1, sharex=True, figsize = (5,2.7), layout='constrained')\n",
    "\n",
    "\n",
    "plt.scatter(fx,fy,color='red',label='nz 800')\n",
    "plt.scatter(cx,cy,color='magenta',label='nz 200')\n",
    "plt.scatter(bx,by,color='green',label='nz 100')\n",
    "plt.scatter(dx,dy,color='black',label='nz 52')\n",
    "plt.scatter(a_x,ay,color='blue',label='nz 28')\n",
    "\n",
    "\n",
    "ax.set_ylim(.80, 1.)  # outliers only\n",
    "ax2.set_ylim(0, .25)\n",
    "ax.spines['bottom'].set_visible(False)\n",
    "ax2.spines['top'].set_visible(False)\n",
    "ax.xaxis.tick_top()\n",
    "ax.tick_params(labeltop=False)  # don't put tick labels at the top\n",
    "ax2.xaxis.tick_bottom()\n",
    "d = .015\n",
    "kwargs = dict(transform=ax.transAxes, color='k', clip_on=False)\n",
    "ax.plot((-d, +d), (-d, +d), **kwargs)        # top-left diagonal\n",
    "ax.plot((1 - d, 1 + d), (-d, +d), **kwargs)  # top-right diagonal\n",
    "kwargs.update(transform=ax2.transAxes)  # switch to the bottom axes\n",
    "ax2.plot((-d, +d), (1 - d, 1 + d), **kwargs)  # bottom-left diagonal\n",
    "ax2.plot((1 - d, 1 + d), (1 - d, 1 + d), **kwargs)  # bottom-right diagonal\n",
    "plt.xlabel('z m')\n",
    "plt.ylabel(r'$\\xi$')\n",
    "plt.legend(bbox_to_anchor=(1.05, 1), loc=\"upper left\")\n",
    "ax.set_title(r'$\\xi_0 = 0.30, \\ \\alpha=1$') \n",
    "# ax.grid(True)\n",
    "# ax2.grid(True)\n",
    "# plt.savefig('nzall.svg', dpi=220,bbox_inches='tight')\n",
    "# plt.savefig('nzall.pdf', dpi=220,bbox_inches='tight')\n",
    "plt.show()"
   ]
  },
  {
   "cell_type": "code",
   "execution_count": 73,
   "id": "6a6678b6-9040-4386-b795-8c463485d186",
   "metadata": {},
   "outputs": [
    {
     "data": {
      "text/plain": [
       "([<matplotlib.axis.XTick at 0x121b8f550>,\n",
       "  <matplotlib.axis.XTick at 0x121b10e10>,\n",
       "  <matplotlib.axis.XTick at 0x121b69650>,\n",
       "  <matplotlib.axis.XTick at 0x121b7a250>],\n",
       " [Text(0.03571428571428571, 0, '1/28'),\n",
       "  Text(0.019230769230769232, 0, '1/52'),\n",
       "  Text(0.01, 0, '1/100'),\n",
       "  Text(0.005, 0, '1/200')])"
      ]
     },
     "execution_count": 73,
     "metadata": {},
     "output_type": "execute_result"
    },
    {
     "data": {
      "image/png": "[encoded data removed]",
      "text/plain": [
       "<Figure size 580x270 with 1 Axes>"
      ]
     },
     "metadata": {},
     "output_type": "display_data"
    }
   ],
   "source": [
    "norm_f_a = np.linalg.norm(f_ay-ay, np.inf)/28\n",
    "norm_f_b = np.linalg.norm(f_by-by, np.inf)/100\n",
    "norm_f_c = np.linalg.norm(f_cy-cy, np.inf)/200\n",
    "norm_f_d = np.linalg.norm(f_dy-dy, np.inf)/50\n",
    "\n",
    "norms = np.array([norm_f_a, norm_f_b, norm_f_c, norm_f_d])\n",
    "# norms = np.array([norm_f_a, norm_f_b, norm_f_c])\n",
    "\n",
    "\n",
    "fig, ax = plt.subplots(figsize = (5.8,2.7), layout='constrained')\n",
    "# fig, (ax, ax2) = plt.subplots(2, 1, sharex=True, figsize = (5,2.7), layout='constrained')\n",
    "bestfit = np.polyfit(1/(nz[0:4]), norms, 1)\n",
    "\n",
    "bestfitx = np.linspace(1/200, 1/28, 100)\n",
    "ax.scatter(1/(nz[0:4]), norms,color='red')\n",
    "# ax.scatter(bestfitx, bestfit[0]*bestfitx + bestfit[1])\n",
    "\n",
    "# ax2.scatter(nz[0:4], norms,color='red')\n",
    "# ax.set_ylim(.80, 1.)  # outliers only\n",
    "# ax2.set_ylim(0, .20)\n",
    "# ax.spines['bottom'].set_visible(False)\n",
    "# ax2.spines['top'].set_visible(False)\n",
    "# ax.xaxis.tick_top()\n",
    "# ax.tick_params(labeltop=False)  # don't put tick labels at the top\n",
    "# ax2.xaxis.tick_bottom()\n",
    "# d = .015\n",
    "# kwargs = dict(transform=ax.transAxes, color='k', clip_on=False)\n",
    "# ax.plot((-d, +d), (-d, +d), **kwargs)        # top-left diagonal\n",
    "# ax.plot((1 - d, 1 + d), (-d, +d), **kwargs)  # top-right diagonal\n",
    "# kwargs.update(transform=ax2.transAxes)  # switch to the bottom axes\n",
    "# ax2.plot((-d, +d), (1 - d, 1 + d), **kwargs)  # bottom-left diagonal\n",
    "# ax2.plot((1 - d, 1 + d), (1 - d, 1 + d), **kwargs)  # bottom-right diagonal\n",
    "plt.xlabel('1/nz')\n",
    "plt.ylabel(r'$nz/||\\xi_{nz} - \\xi_{800}||$')\n",
    "\n",
    "ax.set_xscale(\"log\")\n",
    "# ax2.set_xscale(\"log\")\n",
    "ax.set_yscale(\"log\")\n",
    "plt.ylim(1e-5,1e-3)\n",
    "plt.xlim(1/300,1/20)\n",
    "# ax2.set_yscale(\"log\")\n",
    "ax.grid(True)\n",
    "plt.xticks([1/28, 1/52, 1/100, 1/200],['1/28','1/52','1/100','1/200'])\n",
    "# plt.savefig('nzloglog.pdf', dpi=220,bbox_inches='tight')\n",
    "# plt.savefig('nzloglog.svg', dpi=220,bbox_inches='tight')\n",
    "# plt.show()\n",
    "\n",
    "# plt.scatter(nz[0:4], norms)\n",
    "\n",
    "\n"
   ]
  },
  {
   "cell_type": "code",
   "execution_count": 34,
   "id": "97dc5e7a-061b-4f9d-9efc-3fcaa7d31e94",
   "metadata": {},
   "outputs": [
    {
     "data": {
      "text/plain": [
       "array([ 1.23980403e-02, -7.75491386e-05])"
      ]
     },
     "execution_count": 34,
     "metadata": {},
     "output_type": "execute_result"
    }
   ],
   "source": []
  },
  {
   "cell_type": "code",
   "execution_count": null,
   "id": "d35751af-fea0-4779-9b7f-2256051385d4",
   "metadata": {},
   "outputs": [],
   "source": []
  }
 ],
 "metadata": {
  "kernelspec": {
   "display_name": "Python 3 (ipykernel)",
   "language": "python",
   "name": "python3"
  },
  "language_info": {
   "codemirror_mode": {
    "name": "ipython",
    "version": 3
   },
   "file_extension": ".py",
   "mimetype": "text/x-python",
   "name": "python",
   "nbconvert_exporter": "python",
   "pygments_lexer": "ipython3",
   "version": "3.11.4"
  }
 },
 "nbformat": 4,
 "nbformat_minor": 5
}
