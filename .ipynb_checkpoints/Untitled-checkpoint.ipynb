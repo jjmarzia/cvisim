{
 "cells": [
  {
   "cell_type": "code",
   "execution_count": 8,
   "id": "81ccac8f-ca66-45ad-8680-eea3872500bd",
   "metadata": {},
   "outputs": [],
   "source": [
    "from datetime import date\n",
    "today = date.today()\n",
    "\n",
    "t = 12\n",
    "\n",
    "f = open(r'/Users/jjmarzia/Desktop/cvisim/moose_inputs/d'+str(t)+r'.txt', \"a\")\n",
    "f.write(\"\\n=========\"+str(today)+\"===\\n\")\n",
    "f.write(\"Woops! I have deleted the content!\\n\")\n",
    "f.write(\"======================\")\n",
    "f.close()"
   ]
  },
  {
   "cell_type": "code",
   "execution_count": null,
   "id": "e2cc5263-b649-41eb-9666-58ba9c74e872",
   "metadata": {},
   "outputs": [],
   "source": []
  }
 ],
 "metadata": {
  "kernelspec": {
   "display_name": "Python 3 (ipykernel)",
   "language": "python",
   "name": "python3"
  },
  "language_info": {
   "codemirror_mode": {
    "name": "ipython",
    "version": 3
   },
   "file_extension": ".py",
   "mimetype": "text/x-python",
   "name": "python",
   "nbconvert_exporter": "python",
   "pygments_lexer": "ipython3",
   "version": "3.11.4"
  }
 },
 "nbformat": 4,
 "nbformat_minor": 5
}
