{
 "cells": [
  {
   "cell_type": "code",
   "execution_count": 5,
   "id": "2daa0f8b-7036-4940-b757-bf39b79bbe05",
   "metadata": {},
   "outputs": [
    {
     "ename": "NameError",
     "evalue": "name 'plot' is not defined",
     "output_type": "error",
     "traceback": [
      "\u001b[0;31m---------------------------------------------------------------------------\u001b[0m",
      "\u001b[0;31mNameError\u001b[0m                                 Traceback (most recent call last)",
      "Cell \u001b[0;32mIn [5], line 10\u001b[0m\n\u001b[1;32m      7\u001b[0m sig_y \u001b[38;5;241m=\u001b[39m np\u001b[38;5;241m.\u001b[39marray([\u001b[38;5;241m93\u001b[39m, \u001b[38;5;241m129\u001b[39m, \u001b[38;5;241m145\u001b[39m, \u001b[38;5;241m158\u001b[39m, \u001b[38;5;241m189\u001b[39m, \u001b[38;5;241m233\u001b[39m])\u001b[38;5;241m*\u001b[39m\u001b[38;5;241m1e6\u001b[39m\n\u001b[1;32m      8\u001b[0m d \u001b[38;5;241m=\u001b[39m np\u001b[38;5;241m.\u001b[39marray([\u001b[38;5;241m416\u001b[39m, \u001b[38;5;241m106\u001b[39m, \u001b[38;5;241m75.6\u001b[39m, \u001b[38;5;241m43.2\u001b[39m, \u001b[38;5;241m29.8\u001b[39m, \u001b[38;5;241m16.0\u001b[39m])\u001b[38;5;241m*\u001b[39m\u001b[38;5;241m1e-6\u001b[39m\n\u001b[0;32m---> 10\u001b[0m \u001b[43mplot\u001b[49m(d\u001b[38;5;241m*\u001b[39m\u001b[38;5;241m*\u001b[39m\u001b[38;5;241m-\u001b[39m\u001b[38;5;241m0.5\u001b[39m,sig_y)\n",
      "\u001b[0;31mNameError\u001b[0m: name 'plot' is not defined"
     ]
    }
   ],
   "source": [
    "import numpy as np\n",
    "import math\n",
    "import matplotlib\n",
    "import matplotlib.pyplot as plt\n",
    "import scipy\n",
    "\n",
    "sig_y = np.array([93, 129, 145, 158, 189, 233])*1e6\n",
    "d = np.array([416, 106, 75.6, 43.2, 29.8, 16.0])*1e-6\n",
    "\n",
    "plt.plot(d**-0.5,sig_y)"
   ]
  },
  {
   "cell_type": "code",
   "execution_count": null,
   "id": "40590cc7-6141-4352-b316-ae809c788c67",
   "metadata": {},
   "outputs": [],
   "source": []
  },
  {
   "cell_type": "code",
   "execution_count": 3,
   "id": "061c7f1b-fbd2-4cc1-9de4-8681ea16c832",
   "metadata": {},
   "outputs": [
    {
     "name": "stdout",
     "output_type": "stream",
     "text": [
      "1\n",
      "2\n",
      "3\n",
      "4\n",
      "5\n"
     ]
    }
   ],
   "source": []
  },
  {
   "cell_type": "code",
   "execution_count": null,
   "id": "fef63bda-1786-4ca3-a31c-8e8090f02f71",
   "metadata": {},
   "outputs": [],
   "source": []
  }
 ],
 "metadata": {
  "kernelspec": {
   "display_name": "Python 3 (ipykernel)",
   "language": "python",
   "name": "python3"
  },
  "language_info": {
   "codemirror_mode": {
    "name": "ipython",
    "version": 3
   },
   "file_extension": ".py",
   "mimetype": "text/x-python",
   "name": "python",
   "nbconvert_exporter": "python",
   "pygments_lexer": "ipython3",
   "version": "3.11.0"
  }
 },
 "nbformat": 4,
 "nbformat_minor": 5
}
