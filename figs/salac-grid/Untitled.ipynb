{
 "cells": [
  {
   "cell_type": "code",
   "execution_count": 1,
   "id": "aeb2ed17-8505-403f-bc9c-902eeb75b3a2",
   "metadata": {},
   "outputs": [
    {
     "name": "stdout",
     "output_type": "stream",
     "text": [
      "Requirement already satisfied: scipy in /Library/Frameworks/Python.framework/Versions/3.11/lib/python3.11/site-packages (1.11.1)\n",
      "Requirement already satisfied: numpy<1.28.0,>=1.21.6 in /Library/Frameworks/Python.framework/Versions/3.11/lib/python3.11/site-packages (from scipy) (1.25.1)\n",
      "\n",
      "\u001b[1m[\u001b[0m\u001b[34;49mnotice\u001b[0m\u001b[1;39;49m]\u001b[0m\u001b[39;49m A new release of pip is available: \u001b[0m\u001b[31;49m23.2\u001b[0m\u001b[39;49m -> \u001b[0m\u001b[32;49m23.2.1\u001b[0m\n",
      "\u001b[1m[\u001b[0m\u001b[34;49mnotice\u001b[0m\u001b[1;39;49m]\u001b[0m\u001b[39;49m To update, run: \u001b[0m\u001b[32;49mpip install --upgrade pip\u001b[0m\n"
     ]
    }
   ],
   "source": [
    "import sys\n",
    "!{sys.executable} -m pip install scipy\n",
    "\n",
    "import scipy\n",
    "from scipy.stats import linregress\n",
    "import numpy as np\n",
    "import math\n",
    "import matplotlib\n",
    "import matplotlib.pyplot as plt\n",
    "# plt.rcParams.update({'font.size': 11})\n",
    "\n"
   ]
  },
  {
   "cell_type": "code",
   "execution_count": 2,
   "id": "e34dd533-39e6-415b-b54c-3ac510291dae",
   "metadata": {},
   "outputs": [],
   "source": [
    "def timespacing_var_to_array(var, dt):\n",
    "    L = 5e-3\n",
    "    vars = np.array(['cmts', 'ch2', 'chcl','d','phi','xi', 'rp28'])\n",
    "#          var_index= 0       1      2      3   4     5     6\n",
    "    var_index = var\n",
    "    which_var = str(vars[var_index])\n",
    "    \n",
    "    with open(r'/Users/jjmarzia/Desktop/cvisim/figs/salac-grid/conv2/rp'+str(dt)+'.txt','r') as file:\n",
    "        data = file.read().split(' ')\n",
    "        # print(data)\n",
    "        i=0\n",
    "        for i in range(len(data)):\n",
    "            if '\\n' in data[i]:\n",
    "                data[i] = data[i].replace('\\n', '')\n",
    "            i=i+1\n",
    "        # print(data)\n",
    "        data = [i for i in data if i]\n",
    "        data = np.array(data)\n",
    "        data = data.astype(float)\n",
    "        # data = data*3.16666666667*6.66\n",
    "    # if var_index == 5:\n",
    "        return np.linspace(0,L, 28), data, which_var\n",
    "    # else:\n",
    "    #     return np.linspace(0,L, dt), data, which_var"
   ]
  },
  {
   "cell_type": "code",
   "execution_count": 6,
   "id": "a7b4e149-04ed-4d72-bf7f-5c2fe37910e3",
   "metadata": {},
   "outputs": [
    {
     "name": "stdout",
     "output_type": "stream",
     "text": [
      "[0.00111607 0.00223214 0.00446429 0.00892857]\n",
      "3.88795406560336\n"
     ]
    },
    {
     "data": {
      "image/png": "[encoded data removed]",
      "text/plain": [
       "<Figure size 640x480 with 1 Axes>"
      ]
     },
     "metadata": {},
     "output_type": "display_data"
    }
   ],
   "source": [
    "rp1 = timespacing_var_to_array(6, 7)[1]\n",
    "rp2 = timespacing_var_to_array(6, 31)[1]\n",
    "rp3 = timespacing_var_to_array(6, 124)[1]\n",
    "rp4 = timespacing_var_to_array(6, 498)[1]\n",
    "rp5 = timespacing_var_to_array(6, 1992)[1]\n",
    "\n",
    "# print(rp1)\n",
    "rp0 = 50e-6\n",
    "\n",
    "n12 = np.linalg.norm(rp1-rp2, np.inf)\n",
    "n13 = np.linalg.norm(rp1-rp3, np.inf)\n",
    "n14 = np.linalg.norm(rp1-rp4, np.inf)\n",
    "n15 = np.linalg.norm(rp1-rp5, np.inf)\n",
    "\n",
    "norms = np.array([n12, n13, n14, n15])/rp0\n",
    "grids = 1/np.array([896, 448, 224, 112])\n",
    "\n",
    "print(grids)\n",
    "\n",
    "plt.xscale(\"log\")\n",
    "plt.yscale(\"log\")\n",
    "\n",
    "plt.xlim([1e-4, 1e-0])\n",
    "plt.ylim([1e-4, 1e-0])\n",
    "\n",
    "slope, intercept, r_value, p_value, std_err = scipy.stats.linregress(grids, norms)\n",
    "\n",
    "print(np.log(slope))\n",
    "\n",
    "plt.scatter(grids, norms)\n",
    "\n",
    "plt.savefig('f.svg')\n",
    "plt.savefig('f.pdf')"
   ]
  },
  {
   "cell_type": "code",
   "execution_count": null,
   "id": "5e317797-0067-4590-ba44-8a539664174d",
   "metadata": {},
   "outputs": [],
   "source": []
  }
 ],
 "metadata": {
  "kernelspec": {
   "display_name": "Python 3 (ipykernel)",
   "language": "python",
   "name": "python3"
  },
  "language_info": {
   "codemirror_mode": {
    "name": "ipython",
    "version": 3
   },
   "file_extension": ".py",
   "mimetype": "text/x-python",
   "name": "python",
   "nbconvert_exporter": "python",
   "pygments_lexer": "ipython3",
   "version": "3.11.4"
  }
 },
 "nbformat": 4,
 "nbformat_minor": 5
}
