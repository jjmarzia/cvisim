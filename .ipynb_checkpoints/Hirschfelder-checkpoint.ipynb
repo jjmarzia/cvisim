{
 "cells": [
  {
   "cell_type": "code",
   "execution_count": 23,
   "id": "42ca9b8c-2af5-4eb7-a18d-ee8fa4aa6555",
   "metadata": {},
   "outputs": [],
   "source": [
    "import numpy as np\n",
    "import math\n",
    "import matplotlib\n",
    "import matplotlib.pyplot as plt\n",
    "import scipy\n",
    "from scipy import stats, optimize, interpolate\n",
    "from scipy.integrate import odeint\n",
    "from scipy.integrate import solve_bvp\n",
    "\n"
   ]
  },
  {
   "cell_type": "code",
   "execution_count": 51,
   "id": "5d792b8e-cd02-4b0a-8e28-a956e56637d3",
   "metadata": {},
   "outputs": [
    {
     "name": "stdout",
     "output_type": "stream",
     "text": [
      "3.083e-10\n",
      "[1073 1173 1223 1273 1323 1373] [7.47983323 8.17692859 8.52547627 8.87402395 9.22257163 9.57111931]\n",
      "7\n",
      "8\n",
      "8\n",
      "8\n",
      "9\n",
      "9\n",
      "[0.79643333 0.78003333 0.78003333 0.78003333 0.76611111 0.76611111]\n"
     ]
    },
    {
     "ename": "NameError",
     "evalue": "name 'P' is not defined",
     "output_type": "error",
     "traceback": [
      "\u001b[0;31m---------------------------------------------------------------------------\u001b[0m",
      "\u001b[0;31mNameError\u001b[0m                                 Traceback (most recent call last)",
      "Cell \u001b[0;32mIn [51], line 40\u001b[0m\n\u001b[1;32m     37\u001b[0m T \u001b[38;5;241m=\u001b[39m T[j]\n\u001b[1;32m     38\u001b[0m omegaD \u001b[38;5;241m=\u001b[39m omegaD[j]\n\u001b[0;32m---> 40\u001b[0m Dij \u001b[38;5;241m=\u001b[39m \u001b[38;5;241m5.876e-24\u001b[39m  \u001b[38;5;241m*\u001b[39m((T\u001b[38;5;241m*\u001b[39m\u001b[38;5;241m*\u001b[39m\u001b[38;5;241m1.5\u001b[39m)\u001b[38;5;241m/\u001b[39m(\u001b[43mP\u001b[49m\u001b[38;5;241m*\u001b[39m(sigij\u001b[38;5;241m*\u001b[39m\u001b[38;5;241m*\u001b[39m\u001b[38;5;241m2\u001b[39m)\u001b[38;5;241m*\u001b[39mV\u001b[38;5;241m*\u001b[39momegaD))\u001b[38;5;241m*\u001b[39m((\u001b[38;5;241m1\u001b[39m\u001b[38;5;241m/\u001b[39mMi \u001b[38;5;241m+\u001b[39m \u001b[38;5;241m1\u001b[39m\u001b[38;5;241m/\u001b[39mMj)\u001b[38;5;241m*\u001b[39m\u001b[38;5;241m*\u001b[39m\u001b[38;5;241m0.5\u001b[39m)\n",
      "\u001b[0;31mNameError\u001b[0m: name 'P' is not defined"
     ]
    }
   ],
   "source": [
    "import numpy as np\n",
    "import math\n",
    "import matplotlib\n",
    "import matplotlib.pyplot as plt\n",
    "import scipy\n",
    "from scipy import stats, optimize, interpolate\n",
    "from scipy.integrate import odeint\n",
    "from scipy.integrate import solve_bvp\n",
    "\n",
    "\n",
    "epsik = 59.7\n",
    "sigi = 0.2827e-9\n",
    "epsjk = 344.7\n",
    "sigj = 0.3339e-9\n",
    "\n",
    "sigij = (sigi+sigj)/2\n",
    "print(sigij)\n",
    "\n",
    "T = np.array([1073, 1173, 1223, 1273, 1323, 1373])\n",
    "kepsij = (epsik * epsjk)**(-0.5)\n",
    "Tstar = kepsij*T\n",
    "print(T, Tstar)\n",
    "omegaD7 = np.array([7896, 7420, 7120, 8727, 8360, 8105, 7902, 7736, 8413])*1e-4\n",
    "omegaD8 = np.array([7712, 7260, 6973, 8538, 8193, 7945, 7749, 7587, 8246])*1e-4\n",
    "omegaD9 = np.array([7556, 7127, 6847, 8379, 8048, 7810, 7617, 7458, 8108])*1e-4\n",
    "omegaD10= np.array([7424, 7013, 6735, 8242, 7923, 7690, 7501, 7345, 7988])*1e-4\n",
    "omegaD710 = [omegaD7, omegaD8, omegaD9, omegaD10]\n",
    "omegaD = []\n",
    "for i in range(4):\n",
    "    r = [7, 8, 9, 10]\n",
    "    # Tstari = int(Tstar[i])\n",
    "    omegaDi = np.mean(omegaD710[r[i]-7])\n",
    "    omegaD = np.append(omegaD, omegaDi)\n",
    "print(omegaD)\n",
    "\n",
    "j = 0\n",
    "T = T[j]\n",
    "omegaD = omegaD[j]\n",
    "\n",
    "Dij = 5.876e-24  *((T**1.5)/(P*(sigij**2)*V*omegaD))*((1/Mi + 1/Mj)**0.5)"
   ]
  },
  {
   "cell_type": "code",
   "execution_count": null,
   "id": "d6cf0a9f-b99a-42ba-b101-12b9bf18eaca",
   "metadata": {},
   "outputs": [],
   "source": []
  },
  {
   "cell_type": "code",
   "execution_count": null,
   "id": "c3954e2c-b9d2-4eed-8f41-fa6ac23b6f3a",
   "metadata": {},
   "outputs": [],
   "source": []
  }
 ],
 "metadata": {
  "kernelspec": {
   "display_name": "Python 3 (ipykernel)",
   "language": "python",
   "name": "python3"
  },
  "language_info": {
   "codemirror_mode": {
    "name": "ipython",
    "version": 3
   },
   "file_extension": ".py",
   "mimetype": "text/x-python",
   "name": "python",
   "nbconvert_exporter": "python",
   "pygments_lexer": "ipython3",
   "version": "3.11.0"
  }
 },
 "nbformat": 4,
 "nbformat_minor": 5
}
