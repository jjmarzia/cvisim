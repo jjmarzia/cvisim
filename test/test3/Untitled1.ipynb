{
 "cells": [
  {
   "cell_type": "code",
   "execution_count": 15,
   "id": "b5f02b18-b4b1-4166-9159-bb857038a890",
   "metadata": {
    "tags": []
   },
   "outputs": [
    {
     "name": "stdout",
     "output_type": "stream",
     "text": [
      "[ 20.  30.  40.  50.  60.  70.  80.  90. 100. 110. 120. 130. 140. 150.\n",
      " 160.]\n",
      "[6.4        2.84444444 1.6        1.024      0.71111111 0.52244898\n",
      " 0.4        0.31604938 0.256      0.21157025 0.17777778 0.15147929\n",
      " 0.13061224 0.11377778 0.1       ]\n",
      "\\\\\n",
      "& $20$  & $6.4$\n",
      "\\\\\n",
      "& $30$  & $2.84$\n",
      "\\\\\n",
      "& $40$  & $1.6$\n",
      "\\\\\n",
      "& $50$  & $1.02$\n",
      "\\\\\n",
      "& $60$  & $0.71$\n",
      "\\\\\n",
      "& $70$  & $0.52$\n",
      "\\\\\n",
      "& $80$  & $0.4$\n",
      "\\\\\n",
      "& $90$  & $0.32$\n",
      "\\\\\n",
      "& $100$  & $0.26$\n",
      "\\\\\n",
      "& $110$  & $0.21$\n",
      "\\\\\n",
      "& $120$  & $0.18$\n",
      "\\\\\n",
      "& $130$  & $0.15$\n",
      "\\\\\n",
      "& $140$  & $0.13$\n",
      "\\\\\n",
      "& $150$  & $0.11$\n",
      "\\\\\n",
      "& $160$  & $0.1$\n"
     ]
    }
   ],
   "source": [
    "import numpy as np\n",
    "import math\n",
    "\n",
    "a = np.linspace(20,160,15)\n",
    "print(a)\n",
    "b = 2560*(a)**-2\n",
    "print(b)\n",
    "\n",
    "for i in range(len(a)):\n",
    "    print('\\\\\\\\')\n",
    "    print('& $'+str(round(a[i]))+'$  & $'+str(round(b[i],2))+'$')"
   ]
  },
  {
   "cell_type": "code",
   "execution_count": null,
   "id": "e19c9456-0607-4b00-bc4b-e09f6e88d48a",
   "metadata": {},
   "outputs": [],
   "source": []
  }
 ],
 "metadata": {
  "kernelspec": {
   "display_name": "Python 3 (ipykernel)",
   "language": "python",
   "name": "python3"
  },
  "language_info": {
   "codemirror_mode": {
    "name": "ipython",
    "version": 3
   },
   "file_extension": ".py",
   "mimetype": "text/x-python",
   "name": "python",
   "nbconvert_exporter": "python",
   "pygments_lexer": "ipython3",
   "version": "3.11.4"
  }
 },
 "nbformat": 4,
 "nbformat_minor": 5
}
