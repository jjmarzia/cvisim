{
 "cells": [
  {
   "cell_type": "code",
   "execution_count": 14,
   "id": "b5f02b18-b4b1-4166-9159-bb857038a890",
   "metadata": {
    "tags": []
   },
   "outputs": [
    {
     "name": "stdout",
     "output_type": "stream",
     "text": [
      "[ 20.  30.  40.  50.  60.  70.  80.  90. 100. 110. 120. 130. 140. 150.\n",
      " 160.]\n",
      "[640.         284.44444444 160.         102.4         71.11111111\n",
      "  52.24489796  40.          31.60493827  25.6         21.15702479\n",
      "  17.77777778  15.14792899  13.06122449  11.37777778  10.        ]\n",
      "\\\\\n",
      "& $20$  & $640.0$\n",
      "\\\\\n",
      "& $30$  & $284.44$\n",
      "\\\\\n",
      "& $40$  & $160.0$\n",
      "\\\\\n",
      "& $50$  & $102.4$\n",
      "\\\\\n",
      "& $60$  & $71.11$\n",
      "\\\\\n",
      "& $70$  & $52.24$\n",
      "\\\\\n",
      "& $80$  & $40.0$\n",
      "\\\\\n",
      "& $90$  & $31.6$\n",
      "\\\\\n",
      "& $100$  & $25.6$\n",
      "\\\\\n",
      "& $110$  & $21.16$\n",
      "\\\\\n",
      "& $120$  & $17.78$\n",
      "\\\\\n",
      "& $130$  & $15.15$\n",
      "\\\\\n",
      "& $140$  & $13.06$\n",
      "\\\\\n",
      "& $150$  & $11.38$\n",
      "\\\\\n",
      "& $160$  & $10.0$\n"
     ]
    }
   ],
   "source": [
    "import numpy as np\n",
    "import math\n",
    "\n",
    "a = np.linspace(20,160,15)\n",
    "print(a)\n",
    "b = 2560*(a)**-2\n",
    "print(b)\n",
    "\n",
    "for i in range(len(a)):\n",
    "    print('\\\\\\\\')\n",
    "    print('& $'+str(round(a[i]))+'$  & $'+str(round(b[i],2))+'$')"
   ]
  },
  {
   "cell_type": "code",
   "execution_count": null,
   "id": "e19c9456-0607-4b00-bc4b-e09f6e88d48a",
   "metadata": {},
   "outputs": [],
   "source": []
  }
 ],
 "metadata": {
  "kernelspec": {
   "display_name": "Python 3 (ipykernel)",
   "language": "python",
   "name": "python3"
  },
  "language_info": {
   "codemirror_mode": {
    "name": "ipython",
    "version": 3
   },
   "file_extension": ".py",
   "mimetype": "text/x-python",
   "name": "python",
   "nbconvert_exporter": "python",
   "pygments_lexer": "ipython3",
   "version": "3.11.4"
  }
 },
 "nbformat": 4,
 "nbformat_minor": 5
}
